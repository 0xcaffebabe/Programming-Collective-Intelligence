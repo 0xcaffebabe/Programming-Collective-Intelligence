{
 "cells": [
  {
   "cell_type": "markdown",
   "metadata": {},
   "source": [
    "# SVD test"
   ]
  },
  {
   "cell_type": "markdown",
   "metadata": {},
   "source": [
    "### read Movielens data"
   ]
  },
  {
   "cell_type": "code",
   "execution_count": 125,
   "metadata": {
    "collapsed": true
   },
   "outputs": [],
   "source": [
    "from collections import defaultdict\n",
    "from pprint import pprint\n",
    "from pandas import DataFrame\n",
    "import pandas as pd\n",
    "\n",
    "def loadMovieLens(path='data/movielens'):\n",
    "  # Get movie titles\n",
    "  movies={}\n",
    "  # ingnore\n",
    "  for line in open(path+'/u.item',errors='ignore'):\n",
    "    (id,title)=line.split('|')[0:2]\n",
    "    movies[id]=title\n",
    "  \n",
    "  # Load data\n",
    "  prefs=defaultdict(dict)\n",
    "  for line in open(path+'/u.data'):\n",
    "    (user,movieid,rating,ts)=line.split('\\t')\n",
    "    prefs[int(user)][int(movieid)]=float(rating)\n",
    "  return prefs,movies"
   ]
  },
  {
   "cell_type": "markdown",
   "metadata": {},
   "source": [
    "### drop rows that has to much NaN"
   ]
  },
  {
   "cell_type": "code",
   "execution_count": 187,
   "metadata": {
    "collapsed": false
   },
   "outputs": [
    {
     "name": "stdout",
     "output_type": "stream",
     "text": [
      "334\n"
     ]
    }
   ],
   "source": [
    "# data = DataFrame(movies,index=[0])\n",
    "# data\n",
    "prefs,movies = loadMovieLens()\n",
    "data = DataFrame(prefs)\n",
    "counts=[n for n in range(1,1682) if data.ix[n].count()>100]\n",
    "print(len(counts))\n",
    "cleanedData = data.ix[counts]\n",
    "cleanedData=cleanedData.fillna(0)"
   ]
  },
  {
   "cell_type": "markdown",
   "metadata": {},
   "source": [
    "### svd test"
   ]
  },
  {
   "cell_type": "code",
   "execution_count": 127,
   "metadata": {
    "collapsed": false
   },
   "outputs": [
    {
     "name": "stdout",
     "output_type": "stream",
     "text": [
      "955621.0\n",
      "0: 0.000000\n",
      "20: 0.621745\n",
      "40: 0.692749\n",
      "60: 0.747882\n",
      "80: 0.792778\n",
      "100: 0.830471\n",
      "120: 0.862321\n",
      "140: 0.889204\n",
      "160: 0.912028\n",
      "180: 0.931400\n",
      "200: 0.947672\n",
      "220: 0.961278\n",
      "240: 0.972500\n",
      "260: 0.981599\n",
      "280: 0.988843\n",
      "300: 0.994392\n",
      "320: 0.998309\n"
     ]
    }
   ],
   "source": [
    "import numpy as np\n",
    "\n",
    "U,Sigma,VT=np.linalg.svd(cleanedData)\n",
    "Squ=[value**2 for value in Sigma]\n",
    "valueSum = sum(Squ)\n",
    "print(valueSum)\n",
    "for n in range(0,len(Sigma)+1,20):\n",
    "    print(\"%d: %f\" % (n,sum(Squ[:n])/valueSum))"
   ]
  },
  {
   "cell_type": "markdown",
   "metadata": {},
   "source": [
    "# LFM test "
   ]
  },
  {
   "cell_type": "code",
   "execution_count": 198,
   "metadata": {
    "collapsed": false
   },
   "outputs": [],
   "source": [
    "def LFM(user_items, F, N, alpha=0.01, lam=0.01):\n",
    "    P,Q = InitModel(user_items, F)\n",
    "    user_num, item_num = user_items.shape\n",
    "    for step in range(N):\n",
    "        for u in range(user_num):\n",
    "            for i in range(item_num):\n",
    "                err = user_items[u][i]-np.dot(P[u],Q[i])\n",
    "                for f in range(F):\n",
    "                    gp = err*Q[i][f]+lam*P[u][f]\n",
    "                    gq = err*P[u][f]+lam*Q[i][f]\n",
    "                    P[u][f] += alpha*gp\n",
    "                    Q[i][f] += alpha*gq\n",
    "        err = user_items-np.dot(P,Q.T)\n",
    "        print(\"step %d: %f\"%(step,np.sum(err**2)))           \n",
    "    return P,Q\n",
    "                    \n",
    "def InitModel(user_items, F):\n",
    "    user_num, item_num = user_items.shape\n",
    "    P = np.random.rand(user_num,F)\n",
    "    Q = np.random.rand(item_num,F)\n",
    "    return P,Q\n",
    "\n",
    "def Recommend(user, P, Q):\n",
    "    rank = dict()\n",
    "    for f, puf in P[user].items():\n",
    "        for i, qfi in Q[f].items():\n",
    "            if i not in rank:\n",
    "                rank[i] += puf*qfi\n",
    "    return rank"
   ]
  },
  {
   "cell_type": "code",
   "execution_count": 199,
   "metadata": {
    "collapsed": false
   },
   "outputs": [
    {
     "name": "stdout",
     "output_type": "stream",
     "text": [
      "step 0: 2439085.875030\n",
      "step 1: 1189168.125998\n",
      "step 2: 593555.821211\n"
     ]
    },
    {
     "ename": "KeyboardInterrupt",
     "evalue": "",
     "output_type": "error",
     "traceback": [
      "\u001b[0;31m---------------------------------------------------------------------------\u001b[0m",
      "\u001b[0;31mKeyboardInterrupt\u001b[0m                         Traceback (most recent call last)",
      "\u001b[0;32m<ipython-input-199-5e6dde8c07f0>\u001b[0m in \u001b[0;36m<module>\u001b[0;34m()\u001b[0m\n\u001b[1;32m      3\u001b[0m \u001b[0;31m# P,Q = LFM(arr, 3, 1000,alpha=0.01)\u001b[0m\u001b[0;34m\u001b[0m\u001b[0;34m\u001b[0m\u001b[0m\n\u001b[1;32m      4\u001b[0m \u001b[0marr\u001b[0m \u001b[0;34m=\u001b[0m \u001b[0mnp\u001b[0m\u001b[0;34m.\u001b[0m\u001b[0marray\u001b[0m\u001b[0;34m(\u001b[0m\u001b[0mcleanedData\u001b[0m\u001b[0;34m)\u001b[0m\u001b[0;34m\u001b[0m\u001b[0m\n\u001b[0;32m----> 5\u001b[0;31m \u001b[0mP\u001b[0m\u001b[0;34m,\u001b[0m\u001b[0mQ\u001b[0m \u001b[0;34m=\u001b[0m \u001b[0mLFM\u001b[0m\u001b[0;34m(\u001b[0m\u001b[0marr\u001b[0m\u001b[0;34m,\u001b[0m\u001b[0;36m100\u001b[0m\u001b[0;34m,\u001b[0m\u001b[0;36m1000\u001b[0m\u001b[0;34m)\u001b[0m\u001b[0;34m\u001b[0m\u001b[0m\n\u001b[0m\u001b[1;32m      6\u001b[0m \u001b[0mprint\u001b[0m\u001b[0;34m(\u001b[0m\u001b[0mP\u001b[0m\u001b[0;34m)\u001b[0m\u001b[0;34m\u001b[0m\u001b[0m\n\u001b[1;32m      7\u001b[0m \u001b[0mprint\u001b[0m\u001b[0;34m(\u001b[0m\u001b[0mQ\u001b[0m\u001b[0;34m)\u001b[0m\u001b[0;34m\u001b[0m\u001b[0m\n",
      "\u001b[0;32m<ipython-input-198-17460fde603f>\u001b[0m in \u001b[0;36mLFM\u001b[0;34m(user_items, F, N, alpha, lam)\u001b[0m\n\u001b[1;32m      9\u001b[0m                     \u001b[0mgp\u001b[0m \u001b[0;34m=\u001b[0m \u001b[0merr\u001b[0m\u001b[0;34m*\u001b[0m\u001b[0mQ\u001b[0m\u001b[0;34m[\u001b[0m\u001b[0mi\u001b[0m\u001b[0;34m]\u001b[0m\u001b[0;34m[\u001b[0m\u001b[0mf\u001b[0m\u001b[0;34m]\u001b[0m\u001b[0;34m+\u001b[0m\u001b[0mlam\u001b[0m\u001b[0;34m*\u001b[0m\u001b[0mP\u001b[0m\u001b[0;34m[\u001b[0m\u001b[0mu\u001b[0m\u001b[0;34m]\u001b[0m\u001b[0;34m[\u001b[0m\u001b[0mf\u001b[0m\u001b[0;34m]\u001b[0m\u001b[0;34m\u001b[0m\u001b[0m\n\u001b[1;32m     10\u001b[0m                     \u001b[0mgq\u001b[0m \u001b[0;34m=\u001b[0m \u001b[0merr\u001b[0m\u001b[0;34m*\u001b[0m\u001b[0mP\u001b[0m\u001b[0;34m[\u001b[0m\u001b[0mu\u001b[0m\u001b[0;34m]\u001b[0m\u001b[0;34m[\u001b[0m\u001b[0mf\u001b[0m\u001b[0;34m]\u001b[0m\u001b[0;34m+\u001b[0m\u001b[0mlam\u001b[0m\u001b[0;34m*\u001b[0m\u001b[0mQ\u001b[0m\u001b[0;34m[\u001b[0m\u001b[0mi\u001b[0m\u001b[0;34m]\u001b[0m\u001b[0;34m[\u001b[0m\u001b[0mf\u001b[0m\u001b[0;34m]\u001b[0m\u001b[0;34m\u001b[0m\u001b[0m\n\u001b[0;32m---> 11\u001b[0;31m                     \u001b[0mP\u001b[0m\u001b[0;34m[\u001b[0m\u001b[0mu\u001b[0m\u001b[0;34m]\u001b[0m\u001b[0;34m[\u001b[0m\u001b[0mf\u001b[0m\u001b[0;34m]\u001b[0m \u001b[0;34m+=\u001b[0m \u001b[0malpha\u001b[0m\u001b[0;34m*\u001b[0m\u001b[0mgp\u001b[0m\u001b[0;34m\u001b[0m\u001b[0m\n\u001b[0m\u001b[1;32m     12\u001b[0m                     \u001b[0mQ\u001b[0m\u001b[0;34m[\u001b[0m\u001b[0mi\u001b[0m\u001b[0;34m]\u001b[0m\u001b[0;34m[\u001b[0m\u001b[0mf\u001b[0m\u001b[0;34m]\u001b[0m \u001b[0;34m+=\u001b[0m \u001b[0malpha\u001b[0m\u001b[0;34m*\u001b[0m\u001b[0mgq\u001b[0m\u001b[0;34m\u001b[0m\u001b[0m\n\u001b[1;32m     13\u001b[0m         \u001b[0merr\u001b[0m \u001b[0;34m=\u001b[0m \u001b[0muser_items\u001b[0m\u001b[0;34m-\u001b[0m\u001b[0mnp\u001b[0m\u001b[0;34m.\u001b[0m\u001b[0mdot\u001b[0m\u001b[0;34m(\u001b[0m\u001b[0mP\u001b[0m\u001b[0;34m,\u001b[0m\u001b[0mQ\u001b[0m\u001b[0;34m.\u001b[0m\u001b[0mT\u001b[0m\u001b[0;34m)\u001b[0m\u001b[0;34m\u001b[0m\u001b[0m\n",
      "\u001b[0;31mKeyboardInterrupt\u001b[0m: "
     ]
    }
   ],
   "source": [
    "# data = [[5,5,0,5],[5,0,3,4],[3,4,0,3],[0,0,5,3],[5,4,4,5],[5,4,5,5]]\n",
    "# arr = np.array(data)\n",
    "# P,Q = LFM(arr, 3, 1000,alpha=0.01)\n",
    "arr = np.array(cleanedData)\n",
    "P,Q = LFM(arr,100,1000)\n",
    "print(P)\n",
    "print(Q)\n",
    "print(np.dot(P,Q.T))"
   ]
  },
  {
   "cell_type": "code",
   "execution_count": 189,
   "metadata": {
    "collapsed": false
   },
   "outputs": [
    {
     "data": {
      "text/plain": [
       "array([[  5.,   4.,  nan, ...,   5.,  nan,  nan],\n",
       "       [  3.,  nan,  nan, ...,  nan,  nan,   5.],\n",
       "       [  4.,  nan,  nan, ...,  nan,  nan,  nan],\n",
       "       ..., \n",
       "       [ nan,  nan,  nan, ...,  nan,  nan,  nan],\n",
       "       [ nan,  nan,  nan, ...,  nan,  nan,  nan],\n",
       "       [ nan,  nan,  nan, ...,  nan,  nan,  nan]])"
      ]
     },
     "execution_count": 189,
     "metadata": {},
     "output_type": "execute_result"
    }
   ],
   "source": [
    "np.array(data)"
   ]
  },
  {
   "cell_type": "code",
   "execution_count": 193,
   "metadata": {
    "collapsed": false
   },
   "outputs": [
    {
     "name": "stdout",
     "output_type": "stream",
     "text": [
      "test\n"
     ]
    }
   ],
   "source": [
    "print('test')"
   ]
  },
  {
   "cell_type": "code",
   "execution_count": null,
   "metadata": {
    "collapsed": true
   },
   "outputs": [],
   "source": []
  }
 ],
 "metadata": {
  "anaconda-cloud": {},
  "kernelspec": {
   "display_name": "Python [conda root]",
   "language": "python",
   "name": "conda-root-py"
  },
  "language_info": {
   "codemirror_mode": {
    "name": "ipython",
    "version": 3
   },
   "file_extension": ".py",
   "mimetype": "text/x-python",
   "name": "python",
   "nbconvert_exporter": "python",
   "pygments_lexer": "ipython3",
   "version": "3.5.2"
  }
 },
 "nbformat": 4,
 "nbformat_minor": 1
}
