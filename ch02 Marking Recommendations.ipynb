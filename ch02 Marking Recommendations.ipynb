{
 "cells": [
  {
   "cell_type": "markdown",
   "metadata": {},
   "source": [
    "# 提供推荐"
   ]
  },
  {
   "cell_type": "markdown",
   "metadata": {},
   "source": [
    "## 基于用户的协作型过滤\n",
    "核心思想：找出和自己品味相近的一群人"
   ]
  },
  {
   "cell_type": "code",
   "execution_count": 34,
   "metadata": {
    "collapsed": false
   },
   "outputs": [
    {
     "name": "stdout",
     "output_type": "stream",
     "text": [
      "{'Claudia Puig': {'Just My Luck': 3.0,\n",
      "                  'Snakes on a Plane': 3.5,\n",
      "                  'Superman Returns': 4.0,\n",
      "                  'The Night Listener': 4.5,\n",
      "                  'You, Me and Dupree': 2.5},\n",
      " 'Gene Seymour': {'Just My Luck': 1.5,\n",
      "                  'Lady in the Water': 3.0,\n",
      "                  'Snakes on a Plane': 3.5,\n",
      "                  'Superman Returns': 5.0,\n",
      "                  'The Night Listener': 3.0,\n",
      "                  'You, Me and Dupree': 3.5},\n",
      " 'Jack Matthews': {'Lady in the Water': 3.0,\n",
      "                   'Snakes on a Plane': 4.0,\n",
      "                   'Superman Returns': 5.0,\n",
      "                   'The Night Listener': 3.0,\n",
      "                   'You, Me and Dupree': 3.5},\n",
      " 'Lisa Rose': {'Just My Luck': 3.0,\n",
      "               'Lady in the Water': 2.5,\n",
      "               'Snakes on a Plane': 3.5,\n",
      "               'Superman Returns': 3.5,\n",
      "               'The Night Listener': 3.0,\n",
      "               'You, Me and Dupree': 2.5},\n",
      " 'Michael Phillips': {'Lady in the Water': 2.5,\n",
      "                      'Snakes on a Plane': 3.0,\n",
      "                      'Superman Returns': 3.5,\n",
      "                      'The Night Listener': 4.0},\n",
      " 'Mick LaSalle': {'Just My Luck': 2.0,\n",
      "                  'Lady in the Water': 3.0,\n",
      "                  'Snakes on a Plane': 4.0,\n",
      "                  'Superman Returns': 3.0,\n",
      "                  'The Night Listener': 3.0,\n",
      "                  'You, Me and Dupree': 2.0},\n",
      " 'Toby': {'Snakes on a Plane': 4.5,\n",
      "          'Superman Returns': 4.0,\n",
      "          'You, Me and Dupree': 1.0}}\n"
     ]
    }
   ],
   "source": [
    "from pprint import pprint\n",
    "# A dictionary of movie critics and their ratings of a small\n",
    "# set of movies\n",
    "critics={'Lisa Rose': {'Lady in the Water': 2.5, 'Snakes on a Plane': 3.5,\n",
    " 'Just My Luck': 3.0, 'Superman Returns': 3.5, 'You, Me and Dupree': 2.5, \n",
    " 'The Night Listener': 3.0},\n",
    "'Gene Seymour': {'Lady in the Water': 3.0, 'Snakes on a Plane': 3.5, \n",
    " 'Just My Luck': 1.5, 'Superman Returns': 5.0, 'The Night Listener': 3.0, \n",
    " 'You, Me and Dupree': 3.5}, \n",
    "'Michael Phillips': {'Lady in the Water': 2.5, 'Snakes on a Plane': 3.0,\n",
    " 'Superman Returns': 3.5, 'The Night Listener': 4.0},\n",
    "'Claudia Puig': {'Snakes on a Plane': 3.5, 'Just My Luck': 3.0,\n",
    " 'The Night Listener': 4.5, 'Superman Returns': 4.0, \n",
    " 'You, Me and Dupree': 2.5},\n",
    "'Mick LaSalle': {'Lady in the Water': 3.0, 'Snakes on a Plane': 4.0, \n",
    " 'Just My Luck': 2.0, 'Superman Returns': 3.0, 'The Night Listener': 3.0,\n",
    " 'You, Me and Dupree': 2.0}, \n",
    "'Jack Matthews': {'Lady in the Water': 3.0, 'Snakes on a Plane': 4.0,\n",
    " 'The Night Listener': 3.0, 'Superman Returns': 5.0, 'You, Me and Dupree': 3.5},\n",
    "'Toby': {'Snakes on a Plane':4.5,'You, Me and Dupree':1.0,'Superman Returns':4.0}}\n",
    "pprint(critics)"
   ]
  },
  {
   "cell_type": "code",
   "execution_count": 11,
   "metadata": {
    "collapsed": false
   },
   "outputs": [],
   "source": [
    "from math import sqrt\n",
    "\n",
    "# Returns a distance-based similarity score for person1 and person2\n",
    "def sim_distance(prefs,person1,person2):\n",
    "  # Get the list of shared_items\n",
    "  si={}\n",
    "  for item in prefs[person1]: \n",
    "    if item in prefs[person2]: si[item]=1\n",
    "\n",
    "  # if they have no ratings in common, return 0\n",
    "  if len(si)==0: return 0\n",
    "\n",
    "  # Add up the squares of all the differences\n",
    "  sum_of_squares=sum([pow(prefs[person1][item]-prefs[person2][item],2) \n",
    "                      for item in prefs[person1] if item in prefs[person2]])\n",
    "\n",
    "  return 1/(1+sum_of_squares)"
   ]
  },
  {
   "cell_type": "code",
   "execution_count": 12,
   "metadata": {
    "collapsed": false
   },
   "outputs": [
    {
     "name": "stdout",
     "output_type": "stream",
     "text": [
      "0.129032 : Mick LaSalle and Gene Seymour.\n",
      "0.133333 : Claudia Puig and Gene Seymour.\n",
      "0.173913 : Claudia Puig and Mick LaSalle.\n",
      "0.148148 : Lisa Rose and Gene Seymour.\n",
      "0.333333 : Lisa Rose and Mick LaSalle.\n",
      "0.285714 : Lisa Rose and Claudia Puig.\n",
      "0.210526 : Michael Phillips and Gene Seymour.\n",
      "0.285714 : Michael Phillips and Mick LaSalle.\n",
      "0.571429 : Michael Phillips and Claudia Puig.\n",
      "0.444444 : Michael Phillips and Lisa Rose.\n",
      "0.800000 : Jack Matthews and Gene Seymour.\n",
      "0.137931 : Jack Matthews and Mick LaSalle.\n",
      "0.181818 : Jack Matthews and Claudia Puig.\n",
      "0.210526 : Jack Matthews and Lisa Rose.\n",
      "0.181818 : Jack Matthews and Michael Phillips.\n",
      "0.108108 : Toby and Gene Seymour.\n",
      "0.307692 : Toby and Mick LaSalle.\n",
      "0.235294 : Toby and Claudia Puig.\n",
      "0.222222 : Toby and Lisa Rose.\n",
      "0.285714 : Toby and Michael Phillips.\n",
      "0.117647 : Toby and Jack Matthews.\n"
     ]
    }
   ],
   "source": [
    "sim_distance(critics,'Lisa Rose','Gene Seymour')\n",
    "names = list(critics.keys())\n",
    "for person1 in names:\n",
    "    for person2 in names:\n",
    "        if person1 == person2:\n",
    "            break\n",
    "        distance = sim_distance(critics,person1,person2)\n",
    "        print('%f : %s and %s.' %(distance,person1,person2))"
   ]
  },
  {
   "cell_type": "code",
   "execution_count": 13,
   "metadata": {
    "collapsed": true
   },
   "outputs": [],
   "source": [
    "# Returns the Pearson correlation coefficient for p1 and p2\n",
    "def sim_pearson(prefs,p1,p2):\n",
    "  # Get the list of mutually rated items\n",
    "  si={}\n",
    "  for item in prefs[p1]: \n",
    "    if item in prefs[p2]: si[item]=1\n",
    "\n",
    "  # if they are no ratings in common, return 0\n",
    "  if len(si)==0: return 0\n",
    "\n",
    "  # Sum calculations\n",
    "  n=len(si)\n",
    "  \n",
    "  # Sums of all the preferences\n",
    "  sum1=sum([prefs[p1][it] for it in si])\n",
    "  sum2=sum([prefs[p2][it] for it in si])\n",
    "  \n",
    "  # Sums of the squares\n",
    "  sum1Sq=sum([pow(prefs[p1][it],2) for it in si])\n",
    "  sum2Sq=sum([pow(prefs[p2][it],2) for it in si])\t\n",
    "  \n",
    "  # Sum of the products\n",
    "  pSum=sum([prefs[p1][it]*prefs[p2][it] for it in si])\n",
    "  \n",
    "  # Calculate r (Pearson score)\n",
    "  num=pSum-(sum1*sum2/n)\n",
    "  den=sqrt((sum1Sq-pow(sum1,2)/n)*(sum2Sq-pow(sum2,2)/n))\n",
    "  if den==0: return 0\n",
    "\n",
    "  r=num/den\n",
    "\n",
    "  return r"
   ]
  },
  {
   "cell_type": "code",
   "execution_count": 14,
   "metadata": {
    "collapsed": false
   },
   "outputs": [
    {
     "name": "stdout",
     "output_type": "stream",
     "text": [
      "0.411765 : Mick LaSalle and Gene Seymour.\n",
      "0.314970 : Claudia Puig and Gene Seymour.\n",
      "0.566947 : Claudia Puig and Mick LaSalle.\n",
      "0.396059 : Lisa Rose and Gene Seymour.\n",
      "0.594089 : Lisa Rose and Mick LaSalle.\n",
      "0.566947 : Lisa Rose and Claudia Puig.\n",
      "0.204598 : Michael Phillips and Gene Seymour.\n",
      "-0.258199 : Michael Phillips and Mick LaSalle.\n",
      "1.000000 : Michael Phillips and Claudia Puig.\n",
      "0.404520 : Michael Phillips and Lisa Rose.\n",
      "0.963796 : Jack Matthews and Gene Seymour.\n",
      "0.211289 : Jack Matthews and Mick LaSalle.\n",
      "0.028571 : Jack Matthews and Claudia Puig.\n",
      "0.747018 : Jack Matthews and Lisa Rose.\n",
      "0.134840 : Jack Matthews and Michael Phillips.\n",
      "0.381246 : Toby and Gene Seymour.\n",
      "0.924473 : Toby and Mick LaSalle.\n",
      "0.893405 : Toby and Claudia Puig.\n",
      "0.991241 : Toby and Lisa Rose.\n",
      "-1.000000 : Toby and Michael Phillips.\n",
      "0.662849 : Toby and Jack Matthews.\n"
     ]
    }
   ],
   "source": [
    "for person1 in names:\n",
    "    for person2 in names:\n",
    "        if person1 == person2:\n",
    "            break\n",
    "        distance = sim_pearson(critics,person1,person2)\n",
    "        print('%f : %s and %s.' %(distance,person1,person2))"
   ]
  },
  {
   "cell_type": "code",
   "execution_count": 15,
   "metadata": {
    "collapsed": false
   },
   "outputs": [],
   "source": [
    "# Returns the best matches for person from the prefs dictionary. \n",
    "# Number of results and similarity function are optional params.\n",
    "def topMatches(prefs,person,n=5,similarity=sim_pearson):\n",
    "  scores=[(similarity(prefs,person,other),other) \n",
    "                  for other in prefs if other!=person]\n",
    "  scores.sort()\n",
    "  scores.reverse()\n",
    "  return scores[0:n]\n",
    "\n",
    "# My own funtion\n",
    "def myTopMatches(data,similarity=sim_pearson):\n",
    "    names = list(data.keys())\n",
    "    results = {}\n",
    "    \n",
    "    for person1 in names:\n",
    "        for person2 in names:\n",
    "            if person1 == person2:\n",
    "                break\n",
    "            results[person1+' and '+person2]=similarity(data,person1,person2)\n",
    "\n",
    "    #dict sorted by value of key\n",
    "    return sorted(results.items(),key=lambda d:d[1],reverse=True)          "
   ]
  },
  {
   "cell_type": "code",
   "execution_count": 16,
   "metadata": {
    "collapsed": false
   },
   "outputs": [
    {
     "name": "stdout",
     "output_type": "stream",
     "text": [
      "[('Michael Phillips and Claudia Puig', 1.0),\n",
      " ('Toby and Lisa Rose', 0.9912407071619299),\n",
      " ('Jack Matthews and Gene Seymour', 0.963795681875635),\n",
      " ('Toby and Mick LaSalle', 0.9244734516419049),\n",
      " ('Toby and Claudia Puig', 0.8934051474415647),\n",
      " ('Jack Matthews and Lisa Rose', 0.7470178808339965),\n",
      " ('Toby and Jack Matthews', 0.66284898035987),\n",
      " ('Lisa Rose and Mick LaSalle', 0.5940885257860044),\n",
      " ('Claudia Puig and Mick LaSalle', 0.5669467095138411),\n",
      " ('Lisa Rose and Claudia Puig', 0.5669467095138396),\n",
      " ('Mick LaSalle and Gene Seymour', 0.41176470588235276),\n",
      " ('Michael Phillips and Lisa Rose', 0.40451991747794525),\n",
      " ('Lisa Rose and Gene Seymour', 0.39605901719066977),\n",
      " ('Toby and Gene Seymour', 0.38124642583151164),\n",
      " ('Claudia Puig and Gene Seymour', 0.31497039417435607),\n",
      " ('Jack Matthews and Mick LaSalle', 0.21128856368212925),\n",
      " ('Michael Phillips and Gene Seymour', 0.20459830184114206),\n",
      " ('Jack Matthews and Michael Phillips', 0.13483997249264842),\n",
      " ('Jack Matthews and Claudia Puig', 0.02857142857142857),\n",
      " ('Michael Phillips and Mick LaSalle', -0.2581988897471611),\n",
      " ('Toby and Michael Phillips', -1.0)]\n"
     ]
    }
   ],
   "source": [
    "results = myTopMatches(critics,sim_pearson)\n",
    "pprint(results)"
   ]
  },
  {
   "cell_type": "code",
   "execution_count": 17,
   "metadata": {
    "collapsed": false
   },
   "outputs": [],
   "source": [
    "# Gets recommendations for a person by using a weighted average\n",
    "# of every other user's rankings\n",
    "def getRecommendations(prefs,person,similarity=sim_pearson):\n",
    "  totals={}\n",
    "  simSums={}\n",
    "  for other in prefs:\n",
    "    # don't compare me to myself\n",
    "    if other==person: continue\n",
    "    sim=similarity(prefs,person,other)\n",
    "\n",
    "    # ignore scores of zero or lower\n",
    "    if sim<=0: continue\n",
    "    for item in prefs[other]:\n",
    "  \n",
    "      # only score movies I haven't seen yet\n",
    "      if item not in prefs[person] or prefs[person][item]==0:\n",
    "        # Similarity * Score\n",
    "        totals.setdefault(item,0)\n",
    "        totals[item]+=prefs[other][item]*sim\n",
    "        # Sum of similarities\n",
    "        simSums.setdefault(item,0)\n",
    "        simSums[item]+=sim\n",
    "\n",
    "  # Create the normalized list\n",
    "  rankings=[(item,total/simSums[item]) for item,total in totals.items()]\n",
    "\n",
    "  # Return the sorted list\n",
    "  rankings.sort()\n",
    "  rankings.reverse()\n",
    "  return rankings"
   ]
  },
  {
   "cell_type": "code",
   "execution_count": 18,
   "metadata": {
    "collapsed": false
   },
   "outputs": [
    {
     "data": {
      "text/plain": [
       "[('The Night Listener', 3.3477895267131013),\n",
       " ('Lady in the Water', 2.832549918264162),\n",
       " ('Just My Luck', 2.5309807037655645)]"
      ]
     },
     "execution_count": 18,
     "metadata": {},
     "output_type": "execute_result"
    }
   ],
   "source": [
    "getRecommendations(critics,'Toby')"
   ]
  },
  {
   "cell_type": "code",
   "execution_count": 19,
   "metadata": {
    "collapsed": true
   },
   "outputs": [],
   "source": [
    "def transformPrefs(prefs):\n",
    "  result={}\n",
    "  for person in prefs:\n",
    "    for item in prefs[person]:\n",
    "      result.setdefault(item,{})\n",
    "      \n",
    "      # Flip item and person\n",
    "      result[item][person]=prefs[person][item]\n",
    "  return result"
   ]
  },
  {
   "cell_type": "code",
   "execution_count": 35,
   "metadata": {
    "collapsed": false
   },
   "outputs": [
    {
     "name": "stdout",
     "output_type": "stream",
     "text": [
      "{'Just My Luck': {'Claudia Puig': 3.0,\n",
      "                  'Gene Seymour': 1.5,\n",
      "                  'Lisa Rose': 3.0,\n",
      "                  'Mick LaSalle': 2.0},\n",
      " 'Lady in the Water': {'Gene Seymour': 3.0,\n",
      "                       'Jack Matthews': 3.0,\n",
      "                       'Lisa Rose': 2.5,\n",
      "                       'Michael Phillips': 2.5,\n",
      "                       'Mick LaSalle': 3.0},\n",
      " 'Snakes on a Plane': {'Claudia Puig': 3.5,\n",
      "                       'Gene Seymour': 3.5,\n",
      "                       'Jack Matthews': 4.0,\n",
      "                       'Lisa Rose': 3.5,\n",
      "                       'Michael Phillips': 3.0,\n",
      "                       'Mick LaSalle': 4.0,\n",
      "                       'Toby': 4.5},\n",
      " 'Superman Returns': {'Claudia Puig': 4.0,\n",
      "                      'Gene Seymour': 5.0,\n",
      "                      'Jack Matthews': 5.0,\n",
      "                      'Lisa Rose': 3.5,\n",
      "                      'Michael Phillips': 3.5,\n",
      "                      'Mick LaSalle': 3.0,\n",
      "                      'Toby': 4.0},\n",
      " 'The Night Listener': {'Claudia Puig': 4.5,\n",
      "                        'Gene Seymour': 3.0,\n",
      "                        'Jack Matthews': 3.0,\n",
      "                        'Lisa Rose': 3.0,\n",
      "                        'Michael Phillips': 4.0,\n",
      "                        'Mick LaSalle': 3.0},\n",
      " 'You, Me and Dupree': {'Claudia Puig': 2.5,\n",
      "                        'Gene Seymour': 3.5,\n",
      "                        'Jack Matthews': 3.5,\n",
      "                        'Lisa Rose': 2.5,\n",
      "                        'Mick LaSalle': 2.0,\n",
      "                        'Toby': 1.0}}\n",
      "[('Lady in the Water and Snakes on a Plane', 0.7637626158259785),\n",
      " ('You, Me and Dupree and Superman Returns', 0.6579516949597695),\n",
      " ('The Night Listener and Just My Luck', 0.5555555555555556),\n",
      " ('Lady in the Water and Superman Returns', 0.4879500364742689),\n",
      " ('Lady in the Water and You, Me and Dupree', 0.3333333333333333),\n",
      " ('Superman Returns and Snakes on a Plane', 0.11180339887498941),\n",
      " ('The Night Listener and Superman Returns', -0.1798471947990544),\n",
      " ('You, Me and Dupree and The Night Listener', -0.250000000000002),\n",
      " ('Snakes on a Plane and Just My Luck', -0.3333333333333333),\n",
      " ('Superman Returns and Just My Luck', -0.42289003161103106),\n",
      " ('You, Me and Dupree and Just My Luck', -0.4856618642571827),\n",
      " ('The Night Listener and Snakes on a Plane', -0.5663521139548527),\n",
      " ('Lady in the Water and The Night Listener', -0.6123724356957927),\n",
      " ('You, Me and Dupree and Snakes on a Plane', -0.6454972243679047),\n",
      " ('Lady in the Water and Just My Luck', -0.9449111825230676)]\n",
      "[('Michael Phillips', 4.0), ('Jack Matthews', 3.0)]\n"
     ]
    }
   ],
   "source": [
    "items = transformPrefs(critics)\n",
    "pprint(items)\n",
    "pprint(myTopMatches(items))\n",
    "pprint(getRecommendations(items,'Just My Luck'))"
   ]
  },
  {
   "cell_type": "markdown",
   "metadata": {
    "collapsed": false
   },
   "source": [
    "#### https://github.com/pcao10/pydelicious/issues/43"
   ]
  },
  {
   "cell_type": "code",
   "execution_count": 36,
   "metadata": {
    "collapsed": false
   },
   "outputs": [],
   "source": [
    "from pydelicious import get_popular,get_userposts,get_urlposts\n",
    "import time\n",
    "\n",
    "def initializeUserDict(tag,count=5):\n",
    "  user_dict={}\n",
    "  # get the top count' popular posts\n",
    "  for p1 in get_popular(tag=tag)[0:count]:\n",
    "    # find all users who posted this\n",
    "    for p2 in get_urlposts(p1['href']):\n",
    "      user=p2['user']\n",
    "      user_dict[user]={}\n",
    "  return user_dict\n",
    "\n",
    "def fillItems(user_dict):\n",
    "  all_items={}\n",
    "  # Find links posted by all users\n",
    "  for user in user_dict:\n",
    "    for i in range(3):\n",
    "      try:\n",
    "        posts=get_userposts(user)\n",
    "        break\n",
    "      except:\n",
    "        print (\"Failed user \"+user+\", retrying\")\n",
    "        time.sleep(4)\n",
    "    for post in posts:\n",
    "      url=post['href']\n",
    "      user_dict[user][url]=1.0\n",
    "      all_items[url]=1\n",
    "  \n",
    "  # Fill in missing items with 0\n",
    "  for ratings in user_dict.values():\n",
    "    for item in all_items:\n",
    "      if item not in ratings:\n",
    "        ratings[item]=0.0"
   ]
  },
  {
   "cell_type": "code",
   "execution_count": 37,
   "metadata": {
    "collapsed": false
   },
   "outputs": [],
   "source": [
    "# delusers = initializeUserDict('programming')\n",
    "# delusers['tsegaran']={}\n",
    "# fillItems(delusers)"
   ]
  },
  {
   "cell_type": "code",
   "execution_count": 38,
   "metadata": {
    "collapsed": false
   },
   "outputs": [],
   "source": [
    "#get_popular(tag='programming')[:10]"
   ]
  },
  {
   "cell_type": "markdown",
   "metadata": {
    "collapsed": true
   },
   "source": [
    "## 基于物品的过滤"
   ]
  },
  {
   "cell_type": "code",
   "execution_count": 39,
   "metadata": {
    "collapsed": false
   },
   "outputs": [],
   "source": [
    "def calculateSimilarItems(prefs,n=10):\n",
    "  # Create a dictionary of items showing which other items they\n",
    "  # are most similar to.\n",
    "  result={}\n",
    "  # Invert the preference matrix to be item-centric\n",
    "  itemPrefs=transformPrefs(prefs)\n",
    "  c=0\n",
    "  for item in itemPrefs:\n",
    "    # Status updates for large datasets\n",
    "    c+=1\n",
    "    if c%100==0: \n",
    "        print (\"%d / %d\" % (c,len(itemPrefs)))\n",
    "    # Find the most similar items to this one\n",
    "    scores=topMatches(itemPrefs,item,n=n,similarity=sim_distance)\n",
    "    result[item]=scores\n",
    "  return result"
   ]
  },
  {
   "cell_type": "code",
   "execution_count": 40,
   "metadata": {
    "collapsed": false
   },
   "outputs": [
    {
     "name": "stdout",
     "output_type": "stream",
     "text": [
      "{'Just My Luck': [(0.2222222222222222, 'Lady in the Water'),\n",
      "                  (0.18181818181818182, 'You, Me and Dupree'),\n",
      "                  (0.15384615384615385, 'The Night Listener'),\n",
      "                  (0.10526315789473684, 'Snakes on a Plane'),\n",
      "                  (0.06451612903225806, 'Superman Returns')],\n",
      " 'Lady in the Water': [(0.4, 'You, Me and Dupree'),\n",
      "                       (0.2857142857142857, 'The Night Listener'),\n",
      "                       (0.2222222222222222, 'Snakes on a Plane'),\n",
      "                       (0.2222222222222222, 'Just My Luck'),\n",
      "                       (0.09090909090909091, 'Superman Returns')],\n",
      " 'Snakes on a Plane': [(0.2222222222222222, 'Lady in the Water'),\n",
      "                       (0.18181818181818182, 'The Night Listener'),\n",
      "                       (0.16666666666666666, 'Superman Returns'),\n",
      "                       (0.10526315789473684, 'Just My Luck'),\n",
      "                       (0.05128205128205128, 'You, Me and Dupree')],\n",
      " 'Superman Returns': [(0.16666666666666666, 'Snakes on a Plane'),\n",
      "                      (0.10256410256410256, 'The Night Listener'),\n",
      "                      (0.09090909090909091, 'Lady in the Water'),\n",
      "                      (0.06451612903225806, 'Just My Luck'),\n",
      "                      (0.05333333333333334, 'You, Me and Dupree')],\n",
      " 'The Night Listener': [(0.2857142857142857, 'Lady in the Water'),\n",
      "                        (0.18181818181818182, 'Snakes on a Plane'),\n",
      "                        (0.15384615384615385, 'Just My Luck'),\n",
      "                        (0.14814814814814814, 'You, Me and Dupree'),\n",
      "                        (0.10256410256410256, 'Superman Returns')],\n",
      " 'You, Me and Dupree': [(0.4, 'Lady in the Water'),\n",
      "                        (0.18181818181818182, 'Just My Luck'),\n",
      "                        (0.14814814814814814, 'The Night Listener'),\n",
      "                        (0.05333333333333334, 'Superman Returns'),\n",
      "                        (0.05128205128205128, 'Snakes on a Plane')]}\n"
     ]
    }
   ],
   "source": [
    "itemsim=calculateSimilarItems(critics)\n",
    "pprint(itemsim)"
   ]
  },
  {
   "cell_type": "code",
   "execution_count": 41,
   "metadata": {
    "collapsed": true
   },
   "outputs": [],
   "source": [
    "def getRecommendedItems(prefs,itemMatch,user):\n",
    "  userRatings=prefs[user]\n",
    "  scores={}\n",
    "  totalSim={}\n",
    "  # Loop over items rated by this user\n",
    "  for (item,rating) in userRatings.items( ):\n",
    "\n",
    "    # Loop over items similar to this one\n",
    "    for (similarity,item2) in itemMatch[item]:\n",
    "\n",
    "      # Ignore if this user has already rated this item\n",
    "      if item2 in userRatings: continue\n",
    "      # Weighted sum of rating times similarity\n",
    "      scores.setdefault(item2,0)\n",
    "      scores[item2]+=similarity*rating\n",
    "      # Sum of all the similarities\n",
    "      totalSim.setdefault(item2,0)\n",
    "      totalSim[item2]+=similarity\n",
    "\n",
    "  # Divide each total score by total weighting to get an average\n",
    "  rankings=[(score/totalSim[item],item) for item,score in scores.items( )]\n",
    "\n",
    "  # Return the rankings from highest to lowest\n",
    "  rankings.sort( )\n",
    "  rankings.reverse( )\n",
    "  return rankings"
   ]
  },
  {
   "cell_type": "code",
   "execution_count": 42,
   "metadata": {
    "collapsed": false
   },
   "outputs": [
    {
     "data": {
      "text/plain": [
       "[(3.182634730538922, 'The Night Listener'),\n",
       " (2.5983318700614575, 'Just My Luck'),\n",
       " (2.4730878186968837, 'Lady in the Water')]"
      ]
     },
     "execution_count": 42,
     "metadata": {},
     "output_type": "execute_result"
    }
   ],
   "source": [
    "getRecommendedItems(critics,itemsim,'Toby')"
   ]
  },
  {
   "cell_type": "code",
   "execution_count": 32,
   "metadata": {
    "collapsed": false
   },
   "outputs": [
    {
     "data": {
      "text/plain": [
       "{'Just My Luck': {'Claudia Puig': 3.0,\n",
       "  'Gene Seymour': 1.5,\n",
       "  'Lisa Rose': 3.0,\n",
       "  'Mick LaSalle': 2.0},\n",
       " 'Lady in the Water': {'Gene Seymour': 3.0,\n",
       "  'Jack Matthews': 3.0,\n",
       "  'Lisa Rose': 2.5,\n",
       "  'Michael Phillips': 2.5,\n",
       "  'Mick LaSalle': 3.0},\n",
       " 'Snakes on a Plane': {'Claudia Puig': 3.5,\n",
       "  'Gene Seymour': 3.5,\n",
       "  'Jack Matthews': 4.0,\n",
       "  'Lisa Rose': 3.5,\n",
       "  'Michael Phillips': 3.0,\n",
       "  'Mick LaSalle': 4.0,\n",
       "  'Toby': 4.5},\n",
       " 'Superman Returns': {'Claudia Puig': 4.0,\n",
       "  'Gene Seymour': 5.0,\n",
       "  'Jack Matthews': 5.0,\n",
       "  'Lisa Rose': 3.5,\n",
       "  'Michael Phillips': 3.5,\n",
       "  'Mick LaSalle': 3.0,\n",
       "  'Toby': 4.0},\n",
       " 'The Night Listener': {'Claudia Puig': 4.5,\n",
       "  'Gene Seymour': 3.0,\n",
       "  'Jack Matthews': 3.0,\n",
       "  'Lisa Rose': 3.0,\n",
       "  'Michael Phillips': 4.0,\n",
       "  'Mick LaSalle': 3.0},\n",
       " 'You, Me and Dupree': {'Claudia Puig': 2.5,\n",
       "  'Gene Seymour': 3.5,\n",
       "  'Jack Matthews': 3.5,\n",
       "  'Lisa Rose': 2.5,\n",
       "  'Mick LaSalle': 2.0,\n",
       "  'Toby': 1.0}}"
      ]
     },
     "execution_count": 32,
     "metadata": {},
     "output_type": "execute_result"
    }
   ],
   "source": [
    "critics"
   ]
  },
  {
   "cell_type": "markdown",
   "metadata": {},
   "source": [
    "## 使用MovieLens数据集"
   ]
  },
  {
   "cell_type": "code",
   "execution_count": 53,
   "metadata": {
    "collapsed": true
   },
   "outputs": [],
   "source": [
    "def loadMovieLens(path='data/movielens'):\n",
    "  # Get movie titles\n",
    "  movies={}\n",
    "#   for line in open(path+'/u.item'):\n",
    "#     (id,title)=line.split('|')[0:2]\n",
    "#     movies[id]=title\n",
    "  \n",
    "  # Load data\n",
    "  prefs={}\n",
    "  for line in open(path+'/u.data'):\n",
    "    (user,movieid,rating,ts)=line.split('\\t')\n",
    "    prefs.setdefault(user,{})\n",
    "    prefs[user][movies[movieid]]=float(rating)\n",
    "  return prefs"
   ]
  },
  {
   "cell_type": "code",
   "execution_count": 54,
   "metadata": {
    "collapsed": false
   },
   "outputs": [
    {
     "ename": "KeyError",
     "evalue": "'242'",
     "output_type": "error",
     "traceback": [
      "\u001b[0;31m---------------------------------------------------------------------------\u001b[0m",
      "\u001b[0;31mKeyError\u001b[0m                                  Traceback (most recent call last)",
      "\u001b[0;32m<ipython-input-54-69084479823a>\u001b[0m in \u001b[0;36m<module>\u001b[0;34m()\u001b[0m\n\u001b[0;32m----> 1\u001b[0;31m \u001b[0mprefs\u001b[0m\u001b[0;34m=\u001b[0m\u001b[0mloadMovieLens\u001b[0m\u001b[0;34m(\u001b[0m\u001b[0;34m)\u001b[0m\u001b[0;34m\u001b[0m\u001b[0m\n\u001b[0m",
      "\u001b[0;32m<ipython-input-53-1dd6a1743e3a>\u001b[0m in \u001b[0;36mloadMovieLens\u001b[0;34m(path)\u001b[0m\n\u001b[1;32m     11\u001b[0m     \u001b[0;34m(\u001b[0m\u001b[0muser\u001b[0m\u001b[0;34m,\u001b[0m\u001b[0mmovieid\u001b[0m\u001b[0;34m,\u001b[0m\u001b[0mrating\u001b[0m\u001b[0;34m,\u001b[0m\u001b[0mts\u001b[0m\u001b[0;34m)\u001b[0m\u001b[0;34m=\u001b[0m\u001b[0mline\u001b[0m\u001b[0;34m.\u001b[0m\u001b[0msplit\u001b[0m\u001b[0;34m(\u001b[0m\u001b[0;34m'\\t'\u001b[0m\u001b[0;34m)\u001b[0m\u001b[0;34m\u001b[0m\u001b[0m\n\u001b[1;32m     12\u001b[0m     \u001b[0mprefs\u001b[0m\u001b[0;34m.\u001b[0m\u001b[0msetdefault\u001b[0m\u001b[0;34m(\u001b[0m\u001b[0muser\u001b[0m\u001b[0;34m,\u001b[0m\u001b[0;34m{\u001b[0m\u001b[0;34m}\u001b[0m\u001b[0;34m)\u001b[0m\u001b[0;34m\u001b[0m\u001b[0m\n\u001b[0;32m---> 13\u001b[0;31m     \u001b[0mprefs\u001b[0m\u001b[0;34m[\u001b[0m\u001b[0muser\u001b[0m\u001b[0;34m]\u001b[0m\u001b[0;34m[\u001b[0m\u001b[0mmovies\u001b[0m\u001b[0;34m[\u001b[0m\u001b[0mmovieid\u001b[0m\u001b[0;34m]\u001b[0m\u001b[0;34m]\u001b[0m\u001b[0;34m=\u001b[0m\u001b[0mfloat\u001b[0m\u001b[0;34m(\u001b[0m\u001b[0mrating\u001b[0m\u001b[0;34m)\u001b[0m\u001b[0;34m\u001b[0m\u001b[0m\n\u001b[0m\u001b[1;32m     14\u001b[0m   \u001b[0;32mreturn\u001b[0m \u001b[0mprefs\u001b[0m\u001b[0;34m\u001b[0m\u001b[0m\n",
      "\u001b[0;31mKeyError\u001b[0m: '242'"
     ]
    }
   ],
   "source": [
    "prefs=loadMovieLens()"
   ]
  },
  {
   "cell_type": "code",
   "execution_count": null,
   "metadata": {
    "collapsed": true
   },
   "outputs": [],
   "source": []
  },
  {
   "cell_type": "code",
   "execution_count": null,
   "metadata": {
    "collapsed": true
   },
   "outputs": [],
   "source": []
  },
  {
   "cell_type": "code",
   "execution_count": null,
   "metadata": {
    "collapsed": true
   },
   "outputs": [],
   "source": []
  }
 ],
 "metadata": {
  "anaconda-cloud": {},
  "kernelspec": {
   "display_name": "Python [conda root]",
   "language": "python",
   "name": "conda-root-py"
  },
  "language_info": {
   "codemirror_mode": {
    "name": "ipython",
    "version": 3
   },
   "file_extension": ".py",
   "mimetype": "text/x-python",
   "name": "python",
   "nbconvert_exporter": "python",
   "pygments_lexer": "ipython3",
   "version": "3.5.2"
  }
 },
 "nbformat": 4,
 "nbformat_minor": 1
}
