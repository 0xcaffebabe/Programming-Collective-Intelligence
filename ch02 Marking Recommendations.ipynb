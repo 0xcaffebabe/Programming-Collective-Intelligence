{
 "cells": [
  {
   "cell_type": "markdown",
   "metadata": {},
   "source": [
    "# 提供推荐"
   ]
  },
  {
   "cell_type": "markdown",
   "metadata": {},
   "source": [
    "## 协作型过滤\n",
    "核心思想：找出和自己品味相近的一群人"
   ]
  },
  {
   "cell_type": "code",
   "execution_count": 9,
   "metadata": {
    "collapsed": false
   },
   "outputs": [
    {
     "name": "stdout",
     "output_type": "stream",
     "text": [
      "{'Claudia Puig': {'Just My Luck': 3.0,\n",
      "                  'Snakes on a Plane': 3.5,\n",
      "                  'Superman Returns': 4.0,\n",
      "                  'The Night Listener': 4.5,\n",
      "                  'You, Me and Dupree': 2.5},\n",
      " 'Gene Seymour': {'Just My Luck': 1.5,\n",
      "                  'Lady in the Water': 3.0,\n",
      "                  'Snakes on a Plane': 3.5,\n",
      "                  'Superman Returns': 5.0,\n",
      "                  'The Night Listener': 3.0,\n",
      "                  'You, Me and Dupree': 3.5},\n",
      " 'Jack Matthews': {'Lady in the Water': 3.0,\n",
      "                   'Snakes on a Plane': 4.0,\n",
      "                   'Superman Returns': 5.0,\n",
      "                   'The Night Listener': 3.0,\n",
      "                   'You, Me and Dupree': 3.5},\n",
      " 'Lisa Rose': {'Just My Luck': 3.0,\n",
      "               'Lady in the Water': 2.5,\n",
      "               'Snakes on a Plane': 3.5,\n",
      "               'Superman Returns': 3.5,\n",
      "               'The Night Listener': 3.0,\n",
      "               'You, Me and Dupree': 2.5},\n",
      " 'Michael Phillips': {'Lady in the Water': 2.5,\n",
      "                      'Snakes on a Plane': 3.0,\n",
      "                      'Superman Returns': 3.5,\n",
      "                      'The Night Listener': 4.0},\n",
      " 'Mick LaSalle': {'Just My Luck': 2.0,\n",
      "                  'Lady in the Water': 3.0,\n",
      "                  'Snakes on a Plane': 4.0,\n",
      "                  'Superman Returns': 3.0,\n",
      "                  'The Night Listener': 3.0,\n",
      "                  'You, Me and Dupree': 2.0},\n",
      " 'Toby': {'Snakes on a Plane': 4.5,\n",
      "          'Superman Returns': 4.0,\n",
      "          'You, Me and Dupree': 1.0}}\n"
     ]
    }
   ],
   "source": [
    "from pprint import pprint\n",
    "# A dictionary of movie critics and their ratings of a small\n",
    "# set of movies\n",
    "critics={'Lisa Rose': {'Lady in the Water': 2.5, 'Snakes on a Plane': 3.5,\n",
    " 'Just My Luck': 3.0, 'Superman Returns': 3.5, 'You, Me and Dupree': 2.5, \n",
    " 'The Night Listener': 3.0},\n",
    "'Gene Seymour': {'Lady in the Water': 3.0, 'Snakes on a Plane': 3.5, \n",
    " 'Just My Luck': 1.5, 'Superman Returns': 5.0, 'The Night Listener': 3.0, \n",
    " 'You, Me and Dupree': 3.5}, \n",
    "'Michael Phillips': {'Lady in the Water': 2.5, 'Snakes on a Plane': 3.0,\n",
    " 'Superman Returns': 3.5, 'The Night Listener': 4.0},\n",
    "'Claudia Puig': {'Snakes on a Plane': 3.5, 'Just My Luck': 3.0,\n",
    " 'The Night Listener': 4.5, 'Superman Returns': 4.0, \n",
    " 'You, Me and Dupree': 2.5},\n",
    "'Mick LaSalle': {'Lady in the Water': 3.0, 'Snakes on a Plane': 4.0, \n",
    " 'Just My Luck': 2.0, 'Superman Returns': 3.0, 'The Night Listener': 3.0,\n",
    " 'You, Me and Dupree': 2.0}, \n",
    "'Jack Matthews': {'Lady in the Water': 3.0, 'Snakes on a Plane': 4.0,\n",
    " 'The Night Listener': 3.0, 'Superman Returns': 5.0, 'You, Me and Dupree': 3.5},\n",
    "'Toby': {'Snakes on a Plane':4.5,'You, Me and Dupree':1.0,'Superman Returns':4.0}}\n",
    "pprint(critics)"
   ]
  },
  {
   "cell_type": "code",
   "execution_count": 16,
   "metadata": {
    "collapsed": false
   },
   "outputs": [],
   "source": [
    "from math import sqrt\n",
    "\n",
    "# Returns a distance-based similarity score for person1 and person2\n",
    "def sim_distance(prefs,person1,person2):\n",
    "  # Get the list of shared_items\n",
    "  si={}\n",
    "  for item in prefs[person1]: \n",
    "    if item in prefs[person2]: si[item]=1\n",
    "\n",
    "  # if they have no ratings in common, return 0\n",
    "  if len(si)==0: return 0\n",
    "\n",
    "  # Add up the squares of all the differences\n",
    "  sum_of_squares=sum([pow(prefs[person1][item]-prefs[person2][item],2) \n",
    "                      for item in prefs[person1] if item in prefs[person2]])\n",
    "\n",
    "  return 1/(1+sum_of_squares)"
   ]
  },
  {
   "cell_type": "code",
   "execution_count": 39,
   "metadata": {
    "collapsed": false
   },
   "outputs": [
    {
     "name": "stdout",
     "output_type": "stream",
     "text": [
      "0.129032 : Mick LaSalle and Gene Seymour.\n",
      "0.148148 : Lisa Rose and Gene Seymour.\n",
      "0.333333 : Lisa Rose and Mick LaSalle.\n",
      "0.210526 : Michael Phillips and Gene Seymour.\n",
      "0.285714 : Michael Phillips and Mick LaSalle.\n",
      "0.444444 : Michael Phillips and Lisa Rose.\n",
      "0.108108 : Toby and Gene Seymour.\n",
      "0.307692 : Toby and Mick LaSalle.\n",
      "0.222222 : Toby and Lisa Rose.\n",
      "0.285714 : Toby and Michael Phillips.\n",
      "0.133333 : Claudia Puig and Gene Seymour.\n",
      "0.173913 : Claudia Puig and Mick LaSalle.\n",
      "0.285714 : Claudia Puig and Lisa Rose.\n",
      "0.571429 : Claudia Puig and Michael Phillips.\n",
      "0.235294 : Claudia Puig and Toby.\n",
      "0.800000 : Jack Matthews and Gene Seymour.\n",
      "0.137931 : Jack Matthews and Mick LaSalle.\n",
      "0.210526 : Jack Matthews and Lisa Rose.\n",
      "0.181818 : Jack Matthews and Michael Phillips.\n",
      "0.117647 : Jack Matthews and Toby.\n",
      "0.181818 : Jack Matthews and Claudia Puig.\n"
     ]
    }
   ],
   "source": [
    "sim_distance(critics,'Lisa Rose','Gene Seymour')\n",
    "names = list(critics.keys())\n",
    "for person1 in names:\n",
    "    for person2 in names:\n",
    "        if person1 == person2:\n",
    "            break\n",
    "        distance = sim_distance(critics,person1,person2)\n",
    "        print('%f : %s and %s.' %(distance,person1,person2))"
   ]
  },
  {
   "cell_type": "code",
   "execution_count": 40,
   "metadata": {
    "collapsed": true
   },
   "outputs": [],
   "source": [
    "# Returns the Pearson correlation coefficient for p1 and p2\n",
    "def sim_pearson(prefs,p1,p2):\n",
    "  # Get the list of mutually rated items\n",
    "  si={}\n",
    "  for item in prefs[p1]: \n",
    "    if item in prefs[p2]: si[item]=1\n",
    "\n",
    "  # if they are no ratings in common, return 0\n",
    "  if len(si)==0: return 0\n",
    "\n",
    "  # Sum calculations\n",
    "  n=len(si)\n",
    "  \n",
    "  # Sums of all the preferences\n",
    "  sum1=sum([prefs[p1][it] for it in si])\n",
    "  sum2=sum([prefs[p2][it] for it in si])\n",
    "  \n",
    "  # Sums of the squares\n",
    "  sum1Sq=sum([pow(prefs[p1][it],2) for it in si])\n",
    "  sum2Sq=sum([pow(prefs[p2][it],2) for it in si])\t\n",
    "  \n",
    "  # Sum of the products\n",
    "  pSum=sum([prefs[p1][it]*prefs[p2][it] for it in si])\n",
    "  \n",
    "  # Calculate r (Pearson score)\n",
    "  num=pSum-(sum1*sum2/n)\n",
    "  den=sqrt((sum1Sq-pow(sum1,2)/n)*(sum2Sq-pow(sum2,2)/n))\n",
    "  if den==0: return 0\n",
    "\n",
    "  r=num/den\n",
    "\n",
    "  return r"
   ]
  },
  {
   "cell_type": "code",
   "execution_count": 41,
   "metadata": {
    "collapsed": false
   },
   "outputs": [
    {
     "name": "stdout",
     "output_type": "stream",
     "text": [
      "0.411765 : Mick LaSalle and Gene Seymour.\n",
      "0.396059 : Lisa Rose and Gene Seymour.\n",
      "0.594089 : Lisa Rose and Mick LaSalle.\n",
      "0.204598 : Michael Phillips and Gene Seymour.\n",
      "-0.258199 : Michael Phillips and Mick LaSalle.\n",
      "0.404520 : Michael Phillips and Lisa Rose.\n",
      "0.381246 : Toby and Gene Seymour.\n",
      "0.924473 : Toby and Mick LaSalle.\n",
      "0.991241 : Toby and Lisa Rose.\n",
      "-1.000000 : Toby and Michael Phillips.\n",
      "0.314970 : Claudia Puig and Gene Seymour.\n",
      "0.566947 : Claudia Puig and Mick LaSalle.\n",
      "0.566947 : Claudia Puig and Lisa Rose.\n",
      "1.000000 : Claudia Puig and Michael Phillips.\n",
      "0.893405 : Claudia Puig and Toby.\n",
      "0.963796 : Jack Matthews and Gene Seymour.\n",
      "0.211289 : Jack Matthews and Mick LaSalle.\n",
      "0.747018 : Jack Matthews and Lisa Rose.\n",
      "0.134840 : Jack Matthews and Michael Phillips.\n",
      "0.662849 : Jack Matthews and Toby.\n",
      "0.028571 : Jack Matthews and Claudia Puig.\n"
     ]
    }
   ],
   "source": [
    "for person1 in names:\n",
    "    for person2 in names:\n",
    "        if person1 == person2:\n",
    "            break\n",
    "        distance = sim_pearson(critics,person1,person2)\n",
    "        print('%f : %s and %s.' %(distance,person1,person2))"
   ]
  },
  {
   "cell_type": "code",
   "execution_count": 68,
   "metadata": {
    "collapsed": false
   },
   "outputs": [],
   "source": [
    "# Returns the best matches for person from the prefs dictionary. \n",
    "# Number of results and similarity function are optional params.\n",
    "def topMatches(prefs,person,n=5,similarity=sim_pearson):\n",
    "  scores=[(similarity(prefs,person,other),other) \n",
    "                  for other in prefs if other!=person]\n",
    "  scores.sort()\n",
    "  scores.reverse()\n",
    "  return scores[0:n]\n",
    "\n",
    "# My own funtion\n",
    "def myTopMatches(data,similarity=sim_pearson):\n",
    "    names = list(data.keys())\n",
    "    results = {}\n",
    "    \n",
    "    for person1 in names:\n",
    "        for person2 in names:\n",
    "            if person1 == person2:\n",
    "                break\n",
    "            results[person1+' and '+person2]=similarity(data,person1,person2)\n",
    "\n",
    "    #dict sorted by value of key\n",
    "    return sorted(results.items(),key=lambda d:d[1],reverse=True)          "
   ]
  },
  {
   "cell_type": "code",
   "execution_count": 69,
   "metadata": {
    "collapsed": false
   },
   "outputs": [
    {
     "name": "stdout",
     "output_type": "stream",
     "text": [
      "[('Claudia Puig and Michael Phillips', 1.0),\n",
      " ('Toby and Lisa Rose', 0.9912407071619299),\n",
      " ('Jack Matthews and Gene Seymour', 0.963795681875635),\n",
      " ('Toby and Mick LaSalle', 0.9244734516419049),\n",
      " ('Claudia Puig and Toby', 0.8934051474415647),\n",
      " ('Jack Matthews and Lisa Rose', 0.7470178808339965),\n",
      " ('Jack Matthews and Toby', 0.66284898035987),\n",
      " ('Lisa Rose and Mick LaSalle', 0.5940885257860044),\n",
      " ('Claudia Puig and Mick LaSalle', 0.5669467095138411),\n",
      " ('Claudia Puig and Lisa Rose', 0.5669467095138396),\n",
      " ('Mick LaSalle and Gene Seymour', 0.41176470588235276),\n",
      " ('Michael Phillips and Lisa Rose', 0.40451991747794525),\n",
      " ('Lisa Rose and Gene Seymour', 0.39605901719066977),\n",
      " ('Toby and Gene Seymour', 0.38124642583151164),\n",
      " ('Claudia Puig and Gene Seymour', 0.31497039417435607),\n",
      " ('Jack Matthews and Mick LaSalle', 0.21128856368212925),\n",
      " ('Michael Phillips and Gene Seymour', 0.20459830184114206),\n",
      " ('Jack Matthews and Michael Phillips', 0.13483997249264842),\n",
      " ('Jack Matthews and Claudia Puig', 0.02857142857142857),\n",
      " ('Michael Phillips and Mick LaSalle', -0.2581988897471611),\n",
      " ('Toby and Michael Phillips', -1.0)]\n"
     ]
    }
   ],
   "source": [
    "results = myTopMatches(critics,sim_pearson)\n",
    "pprint(results)"
   ]
  },
  {
   "cell_type": "code",
   "execution_count": 74,
   "metadata": {
    "collapsed": false
   },
   "outputs": [],
   "source": [
    "# Gets recommendations for a person by using a weighted average\n",
    "# of every other user's rankings\n",
    "def getRecommendations(prefs,person,similarity=sim_pearson):\n",
    "  totals={}\n",
    "  simSums={}\n",
    "  for other in prefs:\n",
    "    # don't compare me to myself\n",
    "    if other==person: continue\n",
    "    sim=similarity(prefs,person,other)\n",
    "\n",
    "    # ignore scores of zero or lower\n",
    "    if sim<=0: continue\n",
    "    for item in prefs[other]:\n",
    "  \n",
    "      # only score movies I haven't seen yet\n",
    "      if item not in prefs[person] or prefs[person][item]==0:\n",
    "        # Similarity * Score\n",
    "        totals.setdefault(item,0)\n",
    "        totals[item]+=prefs[other][item]*sim\n",
    "        # Sum of similarities\n",
    "        simSums.setdefault(item,0)\n",
    "        simSums[item]+=sim\n",
    "\n",
    "  # Create the normalized list\n",
    "  rankings=[(item,total/simSums[item]) for item,total in totals.items()]\n",
    "\n",
    "  # Return the sorted list\n",
    "  rankings.sort()\n",
    "  rankings.reverse()\n",
    "  return rankings"
   ]
  },
  {
   "cell_type": "code",
   "execution_count": 77,
   "metadata": {
    "collapsed": false
   },
   "outputs": [
    {
     "data": {
      "text/plain": [
       "[('The Night Listener', 3.3477895267131013),\n",
       " ('Lady in the Water', 2.832549918264162),\n",
       " ('Just My Luck', 2.530980703765565)]"
      ]
     },
     "execution_count": 77,
     "metadata": {},
     "output_type": "execute_result"
    }
   ],
   "source": [
    "getRecommendations(critics,'Toby')"
   ]
  },
  {
   "cell_type": "code",
   "execution_count": 78,
   "metadata": {
    "collapsed": true
   },
   "outputs": [],
   "source": [
    "def transformPrefs(prefs):\n",
    "  result={}\n",
    "  for person in prefs:\n",
    "    for item in prefs[person]:\n",
    "      result.setdefault(item,{})\n",
    "      \n",
    "      # Flip item and person\n",
    "      result[item][person]=prefs[person][item]\n",
    "  return result"
   ]
  },
  {
   "cell_type": "code",
   "execution_count": 82,
   "metadata": {
    "collapsed": false
   },
   "outputs": [
    {
     "name": "stdout",
     "output_type": "stream",
     "text": [
      "{'Just My Luck': {'Claudia Puig': 3.0,\n",
      "                  'Gene Seymour': 1.5,\n",
      "                  'Lisa Rose': 3.0,\n",
      "                  'Mick LaSalle': 2.0},\n",
      " 'Lady in the Water': {'Gene Seymour': 3.0,\n",
      "                       'Jack Matthews': 3.0,\n",
      "                       'Lisa Rose': 2.5,\n",
      "                       'Michael Phillips': 2.5,\n",
      "                       'Mick LaSalle': 3.0},\n",
      " 'Snakes on a Plane': {'Claudia Puig': 3.5,\n",
      "                       'Gene Seymour': 3.5,\n",
      "                       'Jack Matthews': 4.0,\n",
      "                       'Lisa Rose': 3.5,\n",
      "                       'Michael Phillips': 3.0,\n",
      "                       'Mick LaSalle': 4.0,\n",
      "                       'Toby': 4.5},\n",
      " 'Superman Returns': {'Claudia Puig': 4.0,\n",
      "                      'Gene Seymour': 5.0,\n",
      "                      'Jack Matthews': 5.0,\n",
      "                      'Lisa Rose': 3.5,\n",
      "                      'Michael Phillips': 3.5,\n",
      "                      'Mick LaSalle': 3.0,\n",
      "                      'Toby': 4.0},\n",
      " 'The Night Listener': {'Claudia Puig': 4.5,\n",
      "                        'Gene Seymour': 3.0,\n",
      "                        'Jack Matthews': 3.0,\n",
      "                        'Lisa Rose': 3.0,\n",
      "                        'Michael Phillips': 4.0,\n",
      "                        'Mick LaSalle': 3.0},\n",
      " 'You, Me and Dupree': {'Claudia Puig': 2.5,\n",
      "                        'Gene Seymour': 3.5,\n",
      "                        'Jack Matthews': 3.5,\n",
      "                        'Lisa Rose': 2.5,\n",
      "                        'Mick LaSalle': 2.0,\n",
      "                        'Toby': 1.0}}\n",
      "[('Snakes on a Plane and Lady in the Water', 0.7637626158259785),\n",
      " ('Superman Returns and You, Me and Dupree', 0.6579516949597695),\n",
      " ('Just My Luck and The Night Listener', 0.5555555555555556),\n",
      " ('Superman Returns and Lady in the Water', 0.4879500364742689),\n",
      " ('You, Me and Dupree and Lady in the Water', 0.3333333333333333),\n",
      " ('Superman Returns and Snakes on a Plane', 0.11180339887498941),\n",
      " ('Superman Returns and The Night Listener', -0.1798471947990544),\n",
      " ('The Night Listener and You, Me and Dupree', -0.250000000000002),\n",
      " ('Just My Luck and Snakes on a Plane', -0.3333333333333333),\n",
      " ('Just My Luck and Superman Returns', -0.42289003161103106),\n",
      " ('Just My Luck and You, Me and Dupree', -0.4856618642571827),\n",
      " ('The Night Listener and Snakes on a Plane', -0.5663521139548527),\n",
      " ('The Night Listener and Lady in the Water', -0.6123724356957927),\n",
      " ('Snakes on a Plane and You, Me and Dupree', -0.6454972243679047),\n",
      " ('Just My Luck and Lady in the Water', -0.9449111825230676)]\n",
      "[('Michael Phillips', 4.0), ('Jack Matthews', 3.0)]\n"
     ]
    }
   ],
   "source": [
    "critics = transformPrefs(critics)\n",
    "pprint(critics)\n",
    "pprint(myTopMatches(critics))\n",
    "pprint(getRecommendations(critics,'Just My Luck'))"
   ]
  },
  {
   "cell_type": "markdown",
   "metadata": {
    "collapsed": false
   },
   "source": [
    "#### https://github.com/pcao10/pydelicious/issues/43"
   ]
  },
  {
   "cell_type": "code",
   "execution_count": 5,
   "metadata": {
    "collapsed": false
   },
   "outputs": [],
   "source": [
    "from pydelicious import get_popular,get_userposts,get_urlposts\n",
    "import time\n",
    "\n",
    "def initializeUserDict(tag,count=5):\n",
    "  user_dict={}\n",
    "  # get the top count' popular posts\n",
    "  for p1 in get_popular(tag=tag)[0:count]:\n",
    "    # find all users who posted this\n",
    "    for p2 in get_urlposts(p1['href']):\n",
    "      user=p2['user']\n",
    "      user_dict[user]={}\n",
    "  return user_dict\n",
    "\n",
    "def fillItems(user_dict):\n",
    "  all_items={}\n",
    "  # Find links posted by all users\n",
    "  for user in user_dict:\n",
    "    for i in range(3):\n",
    "      try:\n",
    "        posts=get_userposts(user)\n",
    "        break\n",
    "      except:\n",
    "        print (\"Failed user \"+user+\", retrying\")\n",
    "        time.sleep(4)\n",
    "    for post in posts:\n",
    "      url=post['href']\n",
    "      user_dict[user][url]=1.0\n",
    "      all_items[url]=1\n",
    "  \n",
    "  # Fill in missing items with 0\n",
    "  for ratings in user_dict.values():\n",
    "    for item in all_items:\n",
    "      if item not in ratings:\n",
    "        ratings[item]=0.0"
   ]
  },
  {
   "cell_type": "code",
   "execution_count": 6,
   "metadata": {
    "collapsed": false
   },
   "outputs": [
    {
     "name": "stderr",
     "output_type": "stream",
     "text": [
      "<urlopen error [Errno 8] nodename nor servname provided, or not known>, 4 tries left.\n",
      "<urlopen error [Errno 8] nodename nor servname provided, or not known>, 3 tries left.\n",
      "<urlopen error [Errno 8] nodename nor servname provided, or not known>, 2 tries left.\n",
      "<urlopen error [Errno 8] nodename nor servname provided, or not known>, 1 tries left.\n"
     ]
    },
    {
     "ename": "UnboundLocalError",
     "evalue": "local variable 'e' referenced before assignment",
     "output_type": "error",
     "traceback": [
      "\u001b[0;31m---------------------------------------------------------------------------\u001b[0m",
      "\u001b[0;31mUnboundLocalError\u001b[0m                         Traceback (most recent call last)",
      "\u001b[0;32m<ipython-input-6-9c5b7930b9c1>\u001b[0m in \u001b[0;36m<module>\u001b[0;34m()\u001b[0m\n\u001b[0;32m----> 1\u001b[0;31m \u001b[0mdelusers\u001b[0m \u001b[0;34m=\u001b[0m \u001b[0minitializeUserDict\u001b[0m\u001b[0;34m(\u001b[0m\u001b[0;34m'programming'\u001b[0m\u001b[0;34m)\u001b[0m\u001b[0;34m\u001b[0m\u001b[0m\n\u001b[0m\u001b[1;32m      2\u001b[0m \u001b[0mdelusers\u001b[0m\u001b[0;34m[\u001b[0m\u001b[0;34m'tsegaran'\u001b[0m\u001b[0;34m]\u001b[0m\u001b[0;34m=\u001b[0m\u001b[0;34m{\u001b[0m\u001b[0;34m}\u001b[0m\u001b[0;34m\u001b[0m\u001b[0m\n\u001b[1;32m      3\u001b[0m \u001b[0mfillItems\u001b[0m\u001b[0;34m(\u001b[0m\u001b[0mdelusers\u001b[0m\u001b[0;34m)\u001b[0m\u001b[0;34m\u001b[0m\u001b[0m\n",
      "\u001b[0;32m<ipython-input-5-86c250d4f46f>\u001b[0m in \u001b[0;36minitializeUserDict\u001b[0;34m(tag, count)\u001b[0m\n\u001b[1;32m      5\u001b[0m   \u001b[0muser_dict\u001b[0m\u001b[0;34m=\u001b[0m\u001b[0;34m{\u001b[0m\u001b[0;34m}\u001b[0m\u001b[0;34m\u001b[0m\u001b[0m\n\u001b[1;32m      6\u001b[0m   \u001b[0;31m# get the top count' popular posts\u001b[0m\u001b[0;34m\u001b[0m\u001b[0;34m\u001b[0m\u001b[0m\n\u001b[0;32m----> 7\u001b[0;31m   \u001b[0;32mfor\u001b[0m \u001b[0mp1\u001b[0m \u001b[0;32min\u001b[0m \u001b[0mget_popular\u001b[0m\u001b[0;34m(\u001b[0m\u001b[0mtag\u001b[0m\u001b[0;34m=\u001b[0m\u001b[0mtag\u001b[0m\u001b[0;34m)\u001b[0m\u001b[0;34m[\u001b[0m\u001b[0;36m0\u001b[0m\u001b[0;34m:\u001b[0m\u001b[0mcount\u001b[0m\u001b[0;34m]\u001b[0m\u001b[0;34m:\u001b[0m\u001b[0;34m\u001b[0m\u001b[0m\n\u001b[0m\u001b[1;32m      8\u001b[0m     \u001b[0;31m# find all users who posted this\u001b[0m\u001b[0;34m\u001b[0m\u001b[0;34m\u001b[0m\u001b[0m\n\u001b[1;32m      9\u001b[0m     \u001b[0;32mfor\u001b[0m \u001b[0mp2\u001b[0m \u001b[0;32min\u001b[0m \u001b[0mget_urlposts\u001b[0m\u001b[0;34m(\u001b[0m\u001b[0mp1\u001b[0m\u001b[0;34m[\u001b[0m\u001b[0;34m'href'\u001b[0m\u001b[0;34m]\u001b[0m\u001b[0;34m)\u001b[0m\u001b[0;34m:\u001b[0m\u001b[0;34m\u001b[0m\u001b[0m\n",
      "\u001b[0;32m//anaconda/lib/python3.5/site-packages/pydelicious-0.6-py3.5.egg/pydelicious/__init__.py\u001b[0m in \u001b[0;36mget_popular\u001b[0;34m(tag)\u001b[0m\n\u001b[1;32m   1040\u001b[0m \u001b[0;32mdef\u001b[0m \u001b[0mget_popular\u001b[0m\u001b[0;34m(\u001b[0m\u001b[0mtag\u001b[0m\u001b[0;34m=\u001b[0m\u001b[0;34m\"\"\u001b[0m\u001b[0;34m)\u001b[0m\u001b[0;34m:\u001b[0m\u001b[0;34m\u001b[0m\u001b[0m\n\u001b[1;32m   1041\u001b[0m     \u001b[0;34m\"parse RSS for popular URLS for tag\"\u001b[0m\u001b[0;34m\u001b[0m\u001b[0m\n\u001b[0;32m-> 1042\u001b[0;31m     \u001b[0;32mreturn\u001b[0m \u001b[0mgetrss\u001b[0m\u001b[0;34m(\u001b[0m\u001b[0mtag\u001b[0m\u001b[0;34m=\u001b[0m\u001b[0mtag\u001b[0m\u001b[0;34m,\u001b[0m \u001b[0mpopular\u001b[0m\u001b[0;34m=\u001b[0m\u001b[0;36m1\u001b[0m\u001b[0;34m)\u001b[0m\u001b[0;34m\u001b[0m\u001b[0m\n\u001b[0m\u001b[1;32m   1043\u001b[0m \u001b[0;34m\u001b[0m\u001b[0m\n\u001b[1;32m   1044\u001b[0m \u001b[0;34m\u001b[0m\u001b[0m\n",
      "\u001b[0;32m//anaconda/lib/python3.5/site-packages/pydelicious-0.6-py3.5.egg/pydelicious/__init__.py\u001b[0m in \u001b[0;36mgetrss\u001b[0;34m(tag, popular, url, user)\u001b[0m\n\u001b[1;32m   1024\u001b[0m     \u001b[0murl\u001b[0m \u001b[0;34m(\u001b[0m\u001b[0mopt\u001b[0m\u001b[0;34m)\u001b[0m \u001b[0mget\u001b[0m \u001b[0mthe\u001b[0m \u001b[0mposts\u001b[0m \u001b[0mby\u001b[0m \u001b[0murl\u001b[0m\u001b[0;34m\u001b[0m\u001b[0m\n\u001b[1;32m   1025\u001b[0m     \"\"\"\n\u001b[0;32m-> 1026\u001b[0;31m     \u001b[0;32mreturn\u001b[0m \u001b[0mdlcs_rss_request\u001b[0m\u001b[0;34m(\u001b[0m\u001b[0mtag\u001b[0m\u001b[0;34m=\u001b[0m\u001b[0mtag\u001b[0m\u001b[0;34m,\u001b[0m \u001b[0mpopular\u001b[0m\u001b[0;34m=\u001b[0m\u001b[0mpopular\u001b[0m\u001b[0;34m,\u001b[0m \u001b[0muser\u001b[0m\u001b[0;34m=\u001b[0m\u001b[0muser\u001b[0m\u001b[0;34m,\u001b[0m \u001b[0murl\u001b[0m\u001b[0;34m=\u001b[0m\u001b[0murl\u001b[0m\u001b[0;34m)\u001b[0m\u001b[0;34m\u001b[0m\u001b[0m\n\u001b[0m\u001b[1;32m   1027\u001b[0m \u001b[0;34m\u001b[0m\u001b[0m\n\u001b[1;32m   1028\u001b[0m \u001b[0;32mdef\u001b[0m \u001b[0mget_userposts\u001b[0m\u001b[0;34m(\u001b[0m\u001b[0muser\u001b[0m\u001b[0;34m)\u001b[0m\u001b[0;34m:\u001b[0m\u001b[0;34m\u001b[0m\u001b[0m\n",
      "\u001b[0;32m//anaconda/lib/python3.5/site-packages/pydelicious-0.6-py3.5.egg/pydelicious/__init__.py\u001b[0m in \u001b[0;36mdlcs_rss_request\u001b[0;34m(tag, popular, user, url)\u001b[0m\n\u001b[1;32m    453\u001b[0m         \u001b[0mprint\u001b[0m\u001b[0;34m(\u001b[0m\u001b[0;34m'dlcs_rss_request'\u001b[0m\u001b[0;34m,\u001b[0m \u001b[0mstr\u001b[0m\u001b[0;34m(\u001b[0m\u001b[0murl\u001b[0m\u001b[0;34m)\u001b[0m\u001b[0;34m)\u001b[0m\u001b[0;34m\u001b[0m\u001b[0m\n\u001b[1;32m    454\u001b[0m \u001b[0;34m\u001b[0m\u001b[0m\n\u001b[0;32m--> 455\u001b[0;31m     \u001b[0mrss\u001b[0m \u001b[0;34m=\u001b[0m \u001b[0mhttp_request\u001b[0m\u001b[0;34m(\u001b[0m\u001b[0murl\u001b[0m\u001b[0;34m)\u001b[0m\u001b[0;34m.\u001b[0m\u001b[0mread\u001b[0m\u001b[0;34m(\u001b[0m\u001b[0;34m)\u001b[0m\u001b[0;34m\u001b[0m\u001b[0m\n\u001b[0m\u001b[1;32m    456\u001b[0m \u001b[0;34m\u001b[0m\u001b[0m\n\u001b[1;32m    457\u001b[0m     \u001b[0;31m# assert feedparser, \"requires feedparser to be installed.\"\u001b[0m\u001b[0;34m\u001b[0m\u001b[0;34m\u001b[0m\u001b[0m\n",
      "\u001b[0;32m//anaconda/lib/python3.5/site-packages/pydelicious-0.6-py3.5.egg/pydelicious/__init__.py\u001b[0m in \u001b[0;36mhttp_request\u001b[0;34m(url, user_agent, retry, opener)\u001b[0m\n\u001b[1;32m    237\u001b[0m \u001b[0;34m\u001b[0m\u001b[0m\n\u001b[1;32m    238\u001b[0m     \u001b[0;31m# Give up\u001b[0m\u001b[0;34m\u001b[0m\u001b[0;34m\u001b[0m\u001b[0m\n\u001b[0;32m--> 239\u001b[0;31m     \u001b[0;32mraise\u001b[0m \u001b[0mPyDeliciousException\u001b[0m\u001b[0;34m(\u001b[0m\u001b[0;34m\"Unable to retrieve data at '%s', %s\"\u001b[0m \u001b[0;34m%\u001b[0m \u001b[0;34m(\u001b[0m\u001b[0murl\u001b[0m\u001b[0;34m,\u001b[0m \u001b[0me\u001b[0m\u001b[0;34m)\u001b[0m\u001b[0;34m)\u001b[0m\u001b[0;34m\u001b[0m\u001b[0m\n\u001b[0m\u001b[1;32m    240\u001b[0m \u001b[0;34m\u001b[0m\u001b[0m\n\u001b[1;32m    241\u001b[0m \u001b[0;34m\u001b[0m\u001b[0m\n",
      "\u001b[0;31mUnboundLocalError\u001b[0m: local variable 'e' referenced before assignment"
     ]
    }
   ],
   "source": [
    "delusers = initializeUserDict('programming')\n",
    "delusers['tsegaran']={}\n",
    "fillItems(delusers)"
   ]
  },
  {
   "cell_type": "code",
   "execution_count": null,
   "metadata": {
    "collapsed": false
   },
   "outputs": [
    {
     "name": "stderr",
     "output_type": "stream",
     "text": [
      "<urlopen error [Errno 8] nodename nor servname provided, or not known>, 4 tries left.\n",
      "<urlopen error [Errno 8] nodename nor servname provided, or not known>, 3 tries left.\n",
      "<urlopen error [Errno 8] nodename nor servname provided, or not known>, 2 tries left.\n"
     ]
    }
   ],
   "source": [
    "get_popular(tag='programming')[:10]"
   ]
  },
  {
   "cell_type": "code",
   "execution_count": null,
   "metadata": {
    "collapsed": true
   },
   "outputs": [],
   "source": []
  }
 ],
 "metadata": {
  "anaconda-cloud": {},
  "kernelspec": {
   "display_name": "Python [conda root]",
   "language": "python",
   "name": "conda-root-py"
  },
  "language_info": {
   "codemirror_mode": {
    "name": "ipython",
    "version": 3
   },
   "file_extension": ".py",
   "mimetype": "text/x-python",
   "name": "python",
   "nbconvert_exporter": "python",
   "pygments_lexer": "ipython3",
   "version": "3.5.2"
  }
 },
 "nbformat": 4,
 "nbformat_minor": 1
}
