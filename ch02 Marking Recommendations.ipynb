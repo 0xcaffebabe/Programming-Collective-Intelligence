{
 "cells": [
  {
   "cell_type": "markdown",
   "metadata": {},
   "source": [
    "# 提供推荐"
   ]
  },
  {
   "cell_type": "markdown",
   "metadata": {},
   "source": [
    "## 协作型过滤\n",
    "核心思想：找出和自己品味相近的一群人"
   ]
  },
  {
   "cell_type": "code",
   "execution_count": 9,
   "metadata": {
    "collapsed": false
   },
   "outputs": [
    {
     "name": "stdout",
     "output_type": "stream",
     "text": [
      "{'Claudia Puig': {'Just My Luck': 3.0,\n",
      "                  'Snakes on a Plane': 3.5,\n",
      "                  'Superman Returns': 4.0,\n",
      "                  'The Night Listener': 4.5,\n",
      "                  'You, Me and Dupree': 2.5},\n",
      " 'Gene Seymour': {'Just My Luck': 1.5,\n",
      "                  'Lady in the Water': 3.0,\n",
      "                  'Snakes on a Plane': 3.5,\n",
      "                  'Superman Returns': 5.0,\n",
      "                  'The Night Listener': 3.0,\n",
      "                  'You, Me and Dupree': 3.5},\n",
      " 'Jack Matthews': {'Lady in the Water': 3.0,\n",
      "                   'Snakes on a Plane': 4.0,\n",
      "                   'Superman Returns': 5.0,\n",
      "                   'The Night Listener': 3.0,\n",
      "                   'You, Me and Dupree': 3.5},\n",
      " 'Lisa Rose': {'Just My Luck': 3.0,\n",
      "               'Lady in the Water': 2.5,\n",
      "               'Snakes on a Plane': 3.5,\n",
      "               'Superman Returns': 3.5,\n",
      "               'The Night Listener': 3.0,\n",
      "               'You, Me and Dupree': 2.5},\n",
      " 'Michael Phillips': {'Lady in the Water': 2.5,\n",
      "                      'Snakes on a Plane': 3.0,\n",
      "                      'Superman Returns': 3.5,\n",
      "                      'The Night Listener': 4.0},\n",
      " 'Mick LaSalle': {'Just My Luck': 2.0,\n",
      "                  'Lady in the Water': 3.0,\n",
      "                  'Snakes on a Plane': 4.0,\n",
      "                  'Superman Returns': 3.0,\n",
      "                  'The Night Listener': 3.0,\n",
      "                  'You, Me and Dupree': 2.0},\n",
      " 'Toby': {'Snakes on a Plane': 4.5,\n",
      "          'Superman Returns': 4.0,\n",
      "          'You, Me and Dupree': 1.0}}\n"
     ]
    }
   ],
   "source": [
    "from pprint import pprint\n",
    "# A dictionary of movie critics and their ratings of a small\n",
    "# set of movies\n",
    "critics={'Lisa Rose': {'Lady in the Water': 2.5, 'Snakes on a Plane': 3.5,\n",
    " 'Just My Luck': 3.0, 'Superman Returns': 3.5, 'You, Me and Dupree': 2.5, \n",
    " 'The Night Listener': 3.0},\n",
    "'Gene Seymour': {'Lady in the Water': 3.0, 'Snakes on a Plane': 3.5, \n",
    " 'Just My Luck': 1.5, 'Superman Returns': 5.0, 'The Night Listener': 3.0, \n",
    " 'You, Me and Dupree': 3.5}, \n",
    "'Michael Phillips': {'Lady in the Water': 2.5, 'Snakes on a Plane': 3.0,\n",
    " 'Superman Returns': 3.5, 'The Night Listener': 4.0},\n",
    "'Claudia Puig': {'Snakes on a Plane': 3.5, 'Just My Luck': 3.0,\n",
    " 'The Night Listener': 4.5, 'Superman Returns': 4.0, \n",
    " 'You, Me and Dupree': 2.5},\n",
    "'Mick LaSalle': {'Lady in the Water': 3.0, 'Snakes on a Plane': 4.0, \n",
    " 'Just My Luck': 2.0, 'Superman Returns': 3.0, 'The Night Listener': 3.0,\n",
    " 'You, Me and Dupree': 2.0}, \n",
    "'Jack Matthews': {'Lady in the Water': 3.0, 'Snakes on a Plane': 4.0,\n",
    " 'The Night Listener': 3.0, 'Superman Returns': 5.0, 'You, Me and Dupree': 3.5},\n",
    "'Toby': {'Snakes on a Plane':4.5,'You, Me and Dupree':1.0,'Superman Returns':4.0}}\n",
    "pprint(critics)"
   ]
  },
  {
   "cell_type": "code",
   "execution_count": 15,
   "metadata": {
    "collapsed": false
   },
   "outputs": [],
   "source": []
  },
  {
   "cell_type": "code",
   "execution_count": null,
   "metadata": {
    "collapsed": true
   },
   "outputs": [],
   "source": []
  }
 ],
 "metadata": {
  "anaconda-cloud": {},
  "kernelspec": {
   "display_name": "Python [conda root]",
   "language": "python",
   "name": "conda-root-py"
  },
  "language_info": {
   "codemirror_mode": {
    "name": "ipython",
    "version": 3
   },
   "file_extension": ".py",
   "mimetype": "text/x-python",
   "name": "python",
   "nbconvert_exporter": "python",
   "pygments_lexer": "ipython3",
   "version": "3.5.2"
  }
 },
 "nbformat": 4,
 "nbformat_minor": 1
}
